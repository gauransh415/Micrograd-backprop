{
 "cells": [
  {
   "cell_type": "code",
   "execution_count": null,
   "metadata": {},
   "outputs": [],
   "source": [
    "%pip install micrograd \n",
    "%pip install graphviz"
   ]
  },
  {
   "cell_type": "code",
   "execution_count": 2,
   "metadata": {},
   "outputs": [],
   "source": [
    "from micrograd.engine import Value\n",
    "from graphviz import Digraph\n",
    "import math\n",
    "import numpy as np\n",
    "import matplotlib.pyplot as plt\n",
    "%matplotlib inline"
   ]
  },
  {
   "cell_type": "code",
   "execution_count": 3,
   "metadata": {},
   "outputs": [],
   "source": [
    "def func(x):\n",
    "    return 3*x**2 + 4*x - 5"
   ]
  },
  {
   "cell_type": "code",
   "execution_count": 4,
   "metadata": {},
   "outputs": [
    {
     "data": {
      "text/plain": [
       "[<matplotlib.lines.Line2D at 0x22b61bada60>]"
      ]
     },
     "execution_count": 4,
     "metadata": {},
     "output_type": "execute_result"
    },
    {
     "data": {
      "image/png": "[encoded data removed]",
      "text/plain": [
       "<Figure size 640x480 with 1 Axes>"
      ]
     },
     "metadata": {},
     "output_type": "display_data"
    }
   ],
   "source": [
    "xs=np.arange(-5,5.25,0.25)\n",
    "ys= func(xs)\n",
    "plt.plot(xs,ys)\n"
   ]
  },
  {
   "cell_type": "code",
   "execution_count": 29,
   "metadata": {},
   "outputs": [],
   "source": [
    "class Value:\n",
    "  def __init__(self,data, _children=(), _op='', label=''):\n",
    "    self.data=data\n",
    "    self._prev=set(_children)\n",
    "    self._op=_op\n",
    "    self.label=label\n",
    "\n",
    "  def __repr__(self):\n",
    "    return f\"Value(data={self.data})\"\n",
    "  \n",
    "  def __add__(self,other):\n",
    "    s=Value(self.data+other.data, (self, other), '+')\n",
    "    return s\n",
    "  \n",
    "  def __mul__(self,other):\n",
    "    m=Value(self.data*other.data, (self, other), '*')\n",
    "    return m\n",
    "  \n",
    "  def __pow__(self,other):\n",
    "    p=Value(self.data**other.data)\n",
    "    return p\n",
    "\n",
    "\n",
    "a=Value(2.0 , label='a')\n",
    "b=Value(-3.0, label='b')\n",
    "c=Value(10.0, label='c')\n",
    "e= a*b; e.label = 'e'\n",
    "d= e+c; d.label = 'd'\n",
    "f= Value(-2.0, label='f')\n",
    "L= d*f; L.label = 'L'"
   ]
  },
  {
   "cell_type": "code",
   "execution_count": 30,
   "metadata": {},
   "outputs": [],
   "source": [
    "def trace(root):\n",
    "    nodes, edges = set(), set()\n",
    "    def build(v):\n",
    "        if v not in nodes:\n",
    "            nodes.add(v)\n",
    "            for child in v._prev:\n",
    "                edges.add((child, v))\n",
    "                build(child)\n",
    "    build(root)\n",
    "    return nodes, edges\n",
    "\n",
    "def draw_dot(root):\n",
    "    dot=Digraph(format='svg', graph_attr={'rankdir': 'LR'})\n",
    "\n",
    "    # assert rankdir in ['LR', 'TB']\n",
    "    nodes, edges = trace(root)\n",
    "    # dot = Digraph(format=format, graph_attr={'rankdir': rankdir}) #, node_attr={'rankdir': 'TB'})\n",
    "    \n",
    "    for n in nodes:\n",
    "        uid = str(id(n))\n",
    "        dot.node(name=str(id(n)), label = \"{%s | data %.4f}\" % (n.label, n.data ), shape='record')\n",
    "        if n._op:\n",
    "            dot.node(name= uid + n._op, label=n._op)\n",
    "            dot.edge(uid + n._op, str(id(n)))\n",
    "    \n",
    "    for n1, n2 in edges:\n",
    "        dot.edge(str(id(n1)), str(id(n2)) + n2._op)\n",
    "    \n",
    "    return dot"
   ]
  },
  {
   "cell_type": "code",
   "execution_count": 32,
   "metadata": {},
   "outputs": [
    {
     "data": {
      "image/svg+xml": [
       "<?xml version=\"1.0\" encoding=\"UTF-8\" standalone=\"no\"?>\n",
       "<!DOCTYPE svg PUBLIC \"-//W3C//DTD SVG 1.1//EN\"\n",
       " \"http://www.w3.org/Graphics/SVG/1.1/DTD/svg11.dtd\">\n",
       "<!-- Generated by graphviz version 12.1.2 (20240928.0832)\n",
       " -->\n",
       "<!-- Pages: 1 -->\n",
       "<svg width=\"815pt\" height=\"128pt\"\n",
       " viewBox=\"0.00 0.00 814.75 128.00\" xmlns=\"http://www.w3.org/2000/svg\" xmlns:xlink=\"http://www.w3.org/1999/xlink\">\n",
       "<g id=\"graph0\" class=\"graph\" transform=\"scale(1 1) rotate(0) translate(4 124)\">\n",
       "<polygon fill=\"white\" stroke=\"none\" points=\"-4,4 -4,-124 810.75,-124 810.75,4 -4,4\"/>\n",
       "<!-- 2385350874640 -->\n",
       "<g id=\"node1\" class=\"node\">\n",
       "<title>2385350874640</title>\n",
       "<polygon fill=\"none\" stroke=\"black\" points=\"467.5,-82.5 467.5,-118.5 572.25,-118.5 572.25,-82.5 467.5,-82.5\"/>\n",
       "<text text-anchor=\"middle\" x=\"477.75\" y=\"-95.7\" font-family=\"Times New Roman,serif\" font-size=\"14.00\">f</text>\n",
       "<polyline fill=\"none\" stroke=\"black\" points=\"488,-83 488,-118.5\"/>\n",
       "<text text-anchor=\"middle\" x=\"530.12\" y=\"-95.7\" font-family=\"Times New Roman,serif\" font-size=\"14.00\">data &#45;2.0000</text>\n",
       "</g>\n",
       "<!-- 2385350885344* -->\n",
       "<g id=\"node10\" class=\"node\">\n",
       "<title>2385350885344*</title>\n",
       "<ellipse fill=\"none\" stroke=\"black\" cx=\"635.25\" cy=\"-72.5\" rx=\"27\" ry=\"18\"/>\n",
       "<text text-anchor=\"middle\" x=\"635.25\" y=\"-67.45\" font-family=\"Times New Roman,serif\" font-size=\"14.00\">*</text>\n",
       "</g>\n",
       "<!-- 2385350874640&#45;&gt;2385350885344* -->\n",
       "<g id=\"edge5\" class=\"edge\">\n",
       "<title>2385350874640&#45;&gt;2385350885344*</title>\n",
       "<path fill=\"none\" stroke=\"black\" d=\"M572.59,-87.73C581.32,-85.57 590.21,-83.38 598.42,-81.35\"/>\n",
       "<polygon fill=\"black\" stroke=\"black\" points=\"599.16,-84.77 608.02,-78.98 597.48,-77.98 599.16,-84.77\"/>\n",
       "</g>\n",
       "<!-- 2385350873104 -->\n",
       "<g id=\"node2\" class=\"node\">\n",
       "<title>2385350873104</title>\n",
       "<polygon fill=\"none\" stroke=\"black\" points=\"0,-83.5 0,-119.5 107,-119.5 107,-83.5 0,-83.5\"/>\n",
       "<text text-anchor=\"middle\" x=\"11.38\" y=\"-96.7\" font-family=\"Times New Roman,serif\" font-size=\"14.00\">b</text>\n",
       "<polyline fill=\"none\" stroke=\"black\" points=\"22.75,-84 22.75,-119.5\"/>\n",
       "<text text-anchor=\"middle\" x=\"64.88\" y=\"-96.7\" font-family=\"Times New Roman,serif\" font-size=\"14.00\">data &#45;3.0000</text>\n",
       "</g>\n",
       "<!-- 2385350883952* -->\n",
       "<g id=\"node4\" class=\"node\">\n",
       "<title>2385350883952*</title>\n",
       "<ellipse fill=\"none\" stroke=\"black\" cx=\"170\" cy=\"-73.5\" rx=\"27\" ry=\"18\"/>\n",
       "<text text-anchor=\"middle\" x=\"170\" y=\"-68.45\" font-family=\"Times New Roman,serif\" font-size=\"14.00\">*</text>\n",
       "</g>\n",
       "<!-- 2385350873104&#45;&gt;2385350883952* -->\n",
       "<g id=\"edge9\" class=\"edge\">\n",
       "<title>2385350873104&#45;&gt;2385350883952*</title>\n",
       "<path fill=\"none\" stroke=\"black\" d=\"M107.39,-88.57C116.15,-86.42 125.05,-84.25 133.26,-82.24\"/>\n",
       "<polygon fill=\"black\" stroke=\"black\" points=\"133.97,-85.67 142.85,-79.89 132.3,-78.87 133.97,-85.67\"/>\n",
       "</g>\n",
       "<!-- 2385350883952 -->\n",
       "<g id=\"node3\" class=\"node\">\n",
       "<title>2385350883952</title>\n",
       "<polygon fill=\"none\" stroke=\"black\" points=\"234.12,-55.5 234.12,-91.5 340.38,-91.5 340.38,-55.5 234.12,-55.5\"/>\n",
       "<text text-anchor=\"middle\" x=\"245.12\" y=\"-68.7\" font-family=\"Times New Roman,serif\" font-size=\"14.00\">e</text>\n",
       "<polyline fill=\"none\" stroke=\"black\" points=\"256.12,-56 256.12,-91.5\"/>\n",
       "<text text-anchor=\"middle\" x=\"298.25\" y=\"-68.7\" font-family=\"Times New Roman,serif\" font-size=\"14.00\">data &#45;6.0000</text>\n",
       "</g>\n",
       "<!-- 2385350870176+ -->\n",
       "<g id=\"node8\" class=\"node\">\n",
       "<title>2385350870176+</title>\n",
       "<ellipse fill=\"none\" stroke=\"black\" cx=\"404.5\" cy=\"-45.5\" rx=\"27\" ry=\"18\"/>\n",
       "<text text-anchor=\"middle\" x=\"404.5\" y=\"-40.45\" font-family=\"Times New Roman,serif\" font-size=\"14.00\">+</text>\n",
       "</g>\n",
       "<!-- 2385350883952&#45;&gt;2385350870176+ -->\n",
       "<g id=\"edge4\" class=\"edge\">\n",
       "<title>2385350883952&#45;&gt;2385350870176+</title>\n",
       "<path fill=\"none\" stroke=\"black\" d=\"M340.82,-60.73C349.88,-58.53 359.11,-56.29 367.6,-54.22\"/>\n",
       "<polygon fill=\"black\" stroke=\"black\" points=\"368.27,-57.66 377.16,-51.9 366.62,-50.86 368.27,-57.66\"/>\n",
       "</g>\n",
       "<!-- 2385350883952*&#45;&gt;2385350883952 -->\n",
       "<g id=\"edge1\" class=\"edge\">\n",
       "<title>2385350883952*&#45;&gt;2385350883952</title>\n",
       "<path fill=\"none\" stroke=\"black\" d=\"M197.44,-73.5C205.1,-73.5 213.82,-73.5 222.73,-73.5\"/>\n",
       "<polygon fill=\"black\" stroke=\"black\" points=\"222.53,-77 232.53,-73.5 222.53,-70 222.53,-77\"/>\n",
       "</g>\n",
       "<!-- 2385350873728 -->\n",
       "<g id=\"node5\" class=\"node\">\n",
       "<title>2385350873728</title>\n",
       "<polygon fill=\"none\" stroke=\"black\" points=\"233,-0.5 233,-36.5 341.5,-36.5 341.5,-0.5 233,-0.5\"/>\n",
       "<text text-anchor=\"middle\" x=\"244\" y=\"-13.7\" font-family=\"Times New Roman,serif\" font-size=\"14.00\">c</text>\n",
       "<polyline fill=\"none\" stroke=\"black\" points=\"255,-1 255,-36.5\"/>\n",
       "<text text-anchor=\"middle\" x=\"298.25\" y=\"-13.7\" font-family=\"Times New Roman,serif\" font-size=\"14.00\">data 10.0000</text>\n",
       "</g>\n",
       "<!-- 2385350873728&#45;&gt;2385350870176+ -->\n",
       "<g id=\"edge6\" class=\"edge\">\n",
       "<title>2385350873728&#45;&gt;2385350870176+</title>\n",
       "<path fill=\"none\" stroke=\"black\" d=\"M341.83,-31.05C350.54,-33.09 359.37,-35.16 367.53,-37.07\"/>\n",
       "<polygon fill=\"black\" stroke=\"black\" points=\"366.52,-40.43 377.05,-39.3 368.11,-33.61 366.52,-40.43\"/>\n",
       "</g>\n",
       "<!-- 2385350869648 -->\n",
       "<g id=\"node6\" class=\"node\">\n",
       "<title>2385350869648</title>\n",
       "<polygon fill=\"none\" stroke=\"black\" points=\"2.62,-28.5 2.62,-64.5 104.38,-64.5 104.38,-28.5 2.62,-28.5\"/>\n",
       "<text text-anchor=\"middle\" x=\"13.62\" y=\"-41.7\" font-family=\"Times New Roman,serif\" font-size=\"14.00\">a</text>\n",
       "<polyline fill=\"none\" stroke=\"black\" points=\"24.62,-29 24.62,-64.5\"/>\n",
       "<text text-anchor=\"middle\" x=\"64.5\" y=\"-41.7\" font-family=\"Times New Roman,serif\" font-size=\"14.00\">data 2.0000</text>\n",
       "</g>\n",
       "<!-- 2385350869648&#45;&gt;2385350883952* -->\n",
       "<g id=\"edge7\" class=\"edge\">\n",
       "<title>2385350869648&#45;&gt;2385350883952*</title>\n",
       "<path fill=\"none\" stroke=\"black\" d=\"M104.72,-58.34C114.16,-60.57 123.86,-62.86 132.78,-64.96\"/>\n",
       "<polygon fill=\"black\" stroke=\"black\" points=\"131.94,-68.36 142.48,-67.25 133.55,-61.54 131.94,-68.36\"/>\n",
       "</g>\n",
       "<!-- 2385350870176 -->\n",
       "<g id=\"node7\" class=\"node\">\n",
       "<title>2385350870176</title>\n",
       "<polygon fill=\"none\" stroke=\"black\" points=\"468.62,-27.5 468.62,-63.5 571.12,-63.5 571.12,-27.5 468.62,-27.5\"/>\n",
       "<text text-anchor=\"middle\" x=\"480\" y=\"-40.7\" font-family=\"Times New Roman,serif\" font-size=\"14.00\">d</text>\n",
       "<polyline fill=\"none\" stroke=\"black\" points=\"491.38,-28 491.38,-63.5\"/>\n",
       "<text text-anchor=\"middle\" x=\"531.25\" y=\"-40.7\" font-family=\"Times New Roman,serif\" font-size=\"14.00\">data 4.0000</text>\n",
       "</g>\n",
       "<!-- 2385350870176&#45;&gt;2385350885344* -->\n",
       "<g id=\"edge8\" class=\"edge\">\n",
       "<title>2385350870176&#45;&gt;2385350885344*</title>\n",
       "<path fill=\"none\" stroke=\"black\" d=\"M571.59,-57.58C580.59,-59.72 589.79,-61.91 598.28,-63.93\"/>\n",
       "<polygon fill=\"black\" stroke=\"black\" points=\"597.3,-67.3 607.84,-66.21 598.93,-60.49 597.3,-67.3\"/>\n",
       "</g>\n",
       "<!-- 2385350870176+&#45;&gt;2385350870176 -->\n",
       "<g id=\"edge2\" class=\"edge\">\n",
       "<title>2385350870176+&#45;&gt;2385350870176</title>\n",
       "<path fill=\"none\" stroke=\"black\" d=\"M431.8,-45.5C439.43,-45.5 448.11,-45.5 456.96,-45.5\"/>\n",
       "<polygon fill=\"black\" stroke=\"black\" points=\"456.68,-49 466.68,-45.5 456.68,-42 456.68,-49\"/>\n",
       "</g>\n",
       "<!-- 2385350885344 -->\n",
       "<g id=\"node9\" class=\"node\">\n",
       "<title>2385350885344</title>\n",
       "<polygon fill=\"none\" stroke=\"black\" points=\"698.25,-54.5 698.25,-90.5 806.75,-90.5 806.75,-54.5 698.25,-54.5\"/>\n",
       "<text text-anchor=\"middle\" x=\"710.38\" y=\"-67.7\" font-family=\"Times New Roman,serif\" font-size=\"14.00\">L</text>\n",
       "<polyline fill=\"none\" stroke=\"black\" points=\"722.5,-55 722.5,-90.5\"/>\n",
       "<text text-anchor=\"middle\" x=\"764.62\" y=\"-67.7\" font-family=\"Times New Roman,serif\" font-size=\"14.00\">data &#45;8.0000</text>\n",
       "</g>\n",
       "<!-- 2385350885344*&#45;&gt;2385350885344 -->\n",
       "<g id=\"edge3\" class=\"edge\">\n",
       "<title>2385350885344*&#45;&gt;2385350885344</title>\n",
       "<path fill=\"none\" stroke=\"black\" d=\"M662.69,-72.5C669.91,-72.5 678.06,-72.5 686.43,-72.5\"/>\n",
       "<polygon fill=\"black\" stroke=\"black\" points=\"686.39,-76 696.39,-72.5 686.39,-69 686.39,-76\"/>\n",
       "</g>\n",
       "</g>\n",
       "</svg>\n"
      ],
      "text/plain": [
       "<graphviz.graphs.Digraph at 0x22b6201b0b0>"
      ]
     },
     "execution_count": 32,
     "metadata": {},
     "output_type": "execute_result"
    }
   ],
   "source": [
    "draw_dot(L)"
   ]
  },
  {
   "cell_type": "code",
   "execution_count": null,
   "metadata": {},
   "outputs": [],
   "source": []
  }
 ],
 "metadata": {
  "kernelspec": {
   "display_name": "Python 3",
   "language": "python",
   "name": "python3"
  },
  "language_info": {
   "codemirror_mode": {
    "name": "ipython",
    "version": 3
   },
   "file_extension": ".py",
   "mimetype": "text/x-python",
   "name": "python",
   "nbconvert_exporter": "python",
   "pygments_lexer": "ipython3",
   "version": "3.12.3"
  }
 },
 "nbformat": 4,
 "nbformat_minor": 2
}
