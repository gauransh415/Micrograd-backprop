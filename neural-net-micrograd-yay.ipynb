{
 "cells": [
  {
   "cell_type": "code",
   "execution_count": null,
   "metadata": {},
   "outputs": [],
   "source": [
    "%pip install micrograd "
   ]
  },
  {
   "cell_type": "code",
   "execution_count": null,
   "metadata": {},
   "outputs": [],
   "source": [
    "from micrograd.engine import Value\n",
    "import math\n",
    "import \tnumpy as np\n",
    "import matplotlib.pyplot as plt\n",
    "%matplotlib inline"
   ]
  },
  {
   "cell_type": "code",
   "execution_count": null,
   "metadata": {},
   "outputs": [],
   "source": [
    "def func(x):\n",
    "    return 3*x**2 + 4*x - 5"
   ]
  },
  {
   "cell_type": "code",
   "execution_count": null,
   "metadata": {},
   "outputs": [],
   "source": [
    "func(5)"
   ]
  },
  {
   "cell_type": "code",
   "execution_count": null,
   "metadata": {},
   "outputs": [],
   "source": [
    "xs=np.arange(-5,5.25,0.25)\n",
    "ys= func(xs)\n",
    "plt.plot(xs,ys)\n"
   ]
  },
  {
   "cell_type": "code",
   "execution_count": null,
   "metadata": {},
   "outputs": [],
   "source": [
    "class Value:\n",
    "  def __init__(self,data, _children=(), _op=''):\n",
    "    self.data=data\n",
    "    self._prev=set(_children)\n",
    "    self._op=_op\n",
    "\n",
    "  def __repr__(self):\n",
    "    return f\"Value(data={self.data})\"\n",
    "  \n",
    "  def __add__(self,other):\n",
    "    s=Value(self.data+other.data)\n",
    "    return s\n",
    "  \n",
    "  def __mul__(self,other):\n",
    "    m=Value(self.data*other.data)\n",
    "    return m\n",
    "  \n",
    "  def __pow__(self,other):\n",
    "    p=Value(self.data**other.data)\n",
    "    return p\n",
    "\n",
    "\n",
    "a=Value(2.0)\n",
    "b=Value(-3.0)\n",
    "c=Value(10.0)\n",
    "a*b+c           #a.__mul__(b).__add__(c) "
   ]
  },
  {
   "cell_type": "code",
   "execution_count": null,
   "metadata": {},
   "outputs": [],
   "source": []
  }
 ],
 "metadata": {
  "kernelspec": {
   "display_name": "Python 3",
   "language": "python",
   "name": "python3"
  },
  "language_info": {
   "codemirror_mode": {
    "name": "ipython",
    "version": 3
   },
   "file_extension": ".py",
   "mimetype": "text/x-python",
   "name": "python",
   "nbconvert_exporter": "python",
   "pygments_lexer": "ipython3",
   "version": "3.12.3"
  }
 },
 "nbformat": 4,
 "nbformat_minor": 2
}
